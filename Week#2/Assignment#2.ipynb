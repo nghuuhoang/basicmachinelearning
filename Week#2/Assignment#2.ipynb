{
 "cells": [
  {
   "cell_type": "markdown",
   "metadata": {},
   "source": [
    "# Assignment 2\n",
    "##### 1. Using Linear Regression to build a model to predict the BigMartSales and explain some results:\n",
    "a.  Which features(or properties) are unnecessary and can be removed from model construction? Why?\\\n",
    "b. Explain the OLS Regression Results and give opinion about which features are the most important in prediction\n",
    "##### 2. 2. Using Logistic Regression to build a model to classification the Titanic_Disaster data into survived or not survived and explain some results:\n",
    "a. Which properties are unnecessary and can be removed from model construction? Why ?\\\n",
    "b. Explain the confusion matrix and give the accuracy of classification."
   ]
  },
  {
   "cell_type": "markdown",
   "metadata": {},
   "source": [
    "## Solution\n",
    "##### 1.\n",
    "###### Import data from BigMartSales.csv"
   ]
  },
  {
   "cell_type": "code",
   "execution_count": 1,
   "metadata": {
    "scrolled": true
   },
   "outputs": [
    {
     "name": "stdout",
     "output_type": "stream",
     "text": [
      "     Item_Identifier  Item_Weight Item_Fat_Content  Item_Visibility  \\\n",
      "0              FDA15        9.300          Low Fat         0.016047   \n",
      "1              DRC01        5.920          Regular         0.019278   \n",
      "2              FDN15       17.500          Low Fat         0.016760   \n",
      "3              FDX07       19.200          Regular         0.000000   \n",
      "4              NCD19        8.930          Low Fat         0.000000   \n",
      "5              FDP36       10.395          Regular         0.000000   \n",
      "6              FDO10       13.650          Regular         0.012741   \n",
      "7              FDP10          NaN          Low Fat         0.127470   \n",
      "8              FDH17       16.200          Regular         0.016687   \n",
      "9              FDU28       19.200          Regular         0.094450   \n",
      "10             FDY07       11.800          Low Fat         0.000000   \n",
      "11             FDA03       18.500          Regular         0.045464   \n",
      "12             FDX32       15.100          Regular         0.100014   \n",
      "13             FDS46       17.600          Regular         0.047257   \n",
      "14             FDF32       16.350          Low Fat         0.068024   \n",
      "15             FDP49        9.000          Regular         0.069089   \n",
      "16             NCB42       11.800          Low Fat         0.008596   \n",
      "17             FDP49        9.000          Regular         0.069196   \n",
      "18             DRI11          NaN          Low Fat         0.034238   \n",
      "19             FDU02       13.350          Low Fat         0.102492   \n",
      "20             FDN22       18.850          Regular         0.138190   \n",
      "21             FDW12          NaN          Regular         0.035400   \n",
      "22             NCB30       14.600          Low Fat         0.025698   \n",
      "23             FDC37          NaN          Low Fat         0.057557   \n",
      "24             FDR28       13.850          Regular         0.025896   \n",
      "25             NCD06       13.000          Low Fat         0.099887   \n",
      "26             FDV10        7.645          Regular         0.066693   \n",
      "27             DRJ59       11.650          low fat         0.019356   \n",
      "28             FDE51        5.925          Regular         0.161467   \n",
      "29             FDC14          NaN          Regular         0.072222   \n",
      "...              ...          ...              ...              ...   \n",
      "8493           FDP21        7.420          Regular         0.025886   \n",
      "8494           NCI54       15.200          Low Fat         0.000000   \n",
      "8495           FDE22        9.695          Low Fat         0.029567   \n",
      "8496           FDJ57        7.420          Regular         0.021696   \n",
      "8497           FDT08       13.650          Low Fat         0.049209   \n",
      "8498           NCP54       15.350          Low Fat         0.035293   \n",
      "8499           NCK53       11.600          Low Fat         0.037574   \n",
      "8500           NCQ42       20.350          Low Fat         0.000000   \n",
      "8501           FDW21        5.340          Regular         0.005998   \n",
      "8502           NCH43        8.420          Low Fat         0.070712   \n",
      "8503           FDQ44       20.500          Low Fat         0.036133   \n",
      "8504           NCN18          NaN          Low Fat         0.124111   \n",
      "8505           FDB46       10.500          Regular         0.094146   \n",
      "8506           DRF37       17.250          Low Fat         0.084676   \n",
      "8507           FDN28        5.880          Regular         0.030242   \n",
      "8508           FDW31       11.350          Regular         0.043246   \n",
      "8509           FDG45        8.100          Low Fat         0.214306   \n",
      "8510           FDN58       13.800          Regular         0.056862   \n",
      "8511           FDF05       17.500          Low Fat         0.026980   \n",
      "8512           FDR26       20.700          Low Fat         0.042801   \n",
      "8513           FDH31       12.000          Regular         0.020407   \n",
      "8514           FDA01       15.000          Regular         0.054489   \n",
      "8515           FDH24       20.700          Low Fat         0.021518   \n",
      "8516           NCJ19       18.600          Low Fat         0.118661   \n",
      "8517           FDF53       20.750              reg         0.083607   \n",
      "8518           FDF22        6.865          Low Fat         0.056783   \n",
      "8519           FDS36        8.380          Regular         0.046982   \n",
      "8520           NCJ29       10.600          Low Fat         0.035186   \n",
      "8521           FDN46        7.210          Regular         0.145221   \n",
      "8522           DRG01       14.800          Low Fat         0.044878   \n",
      "\n",
      "                  Item_Type  Item_MRP Outlet_Identifier  \\\n",
      "0                     Dairy  249.8092            OUT049   \n",
      "1               Soft Drinks   48.2692            OUT018   \n",
      "2                      Meat  141.6180            OUT049   \n",
      "3     Fruits and Vegetables  182.0950            OUT010   \n",
      "4                 Household   53.8614            OUT013   \n",
      "5              Baking Goods   51.4008            OUT018   \n",
      "6               Snack Foods   57.6588            OUT013   \n",
      "7               Snack Foods  107.7622            OUT027   \n",
      "8              Frozen Foods   96.9726            OUT045   \n",
      "9              Frozen Foods  187.8214            OUT017   \n",
      "10    Fruits and Vegetables   45.5402            OUT049   \n",
      "11                    Dairy  144.1102            OUT046   \n",
      "12    Fruits and Vegetables  145.4786            OUT049   \n",
      "13              Snack Foods  119.6782            OUT046   \n",
      "14    Fruits and Vegetables  196.4426            OUT013   \n",
      "15                Breakfast   56.3614            OUT046   \n",
      "16       Health and Hygiene  115.3492            OUT018   \n",
      "17                Breakfast   54.3614            OUT049   \n",
      "18              Hard Drinks  113.2834            OUT027   \n",
      "19                    Dairy  230.5352            OUT035   \n",
      "20              Snack Foods  250.8724            OUT013   \n",
      "21             Baking Goods  144.5444            OUT027   \n",
      "22                Household  196.5084            OUT035   \n",
      "23             Baking Goods  107.6938            OUT019   \n",
      "24             Frozen Foods  165.0210            OUT046   \n",
      "25                Household   45.9060            OUT017   \n",
      "26              Snack Foods   42.3112            OUT035   \n",
      "27              Hard Drinks   39.1164            OUT013   \n",
      "28                    Dairy   45.5086            OUT010   \n",
      "29                   Canned   43.6454            OUT019   \n",
      "...                     ...       ...               ...   \n",
      "8493            Snack Foods  189.1872            OUT017   \n",
      "8494              Household  110.4912            OUT017   \n",
      "8495            Snack Foods  160.4920            OUT035   \n",
      "8496                Seafood  185.3582            OUT017   \n",
      "8497  Fruits and Vegetables  150.0050            OUT035   \n",
      "8498              Household  124.5730            OUT018   \n",
      "8499     Health and Hygiene  100.0042            OUT035   \n",
      "8500              Household  125.1678            OUT017   \n",
      "8501            Snack Foods  100.4358            OUT017   \n",
      "8502              Household  216.4192            OUT045   \n",
      "8503  Fruits and Vegetables  120.1756            OUT035   \n",
      "8504              Household  111.7544            OUT027   \n",
      "8505            Snack Foods  210.8244            OUT018   \n",
      "8506            Soft Drinks  263.1910            OUT018   \n",
      "8507           Frozen Foods  101.7990            OUT035   \n",
      "8508  Fruits and Vegetables  199.4742            OUT045   \n",
      "8509  Fruits and Vegetables  213.9902            OUT010   \n",
      "8510            Snack Foods  231.5984            OUT035   \n",
      "8511           Frozen Foods  262.5910            OUT018   \n",
      "8512                  Dairy  178.3028            OUT013   \n",
      "8513                   Meat   99.9042            OUT035   \n",
      "8514                 Canned   57.5904            OUT045   \n",
      "8515           Baking Goods  157.5288            OUT018   \n",
      "8516                 Others   58.7588            OUT018   \n",
      "8517           Frozen Foods  178.8318            OUT046   \n",
      "8518            Snack Foods  214.5218            OUT013   \n",
      "8519           Baking Goods  108.1570            OUT045   \n",
      "8520     Health and Hygiene   85.1224            OUT035   \n",
      "8521            Snack Foods  103.1332            OUT018   \n",
      "8522            Soft Drinks   75.4670            OUT046   \n",
      "\n",
      "      Outlet_Establishment_Year Outlet_Size Outlet_Location_Type  \\\n",
      "0                          1999      Medium               Tier 1   \n",
      "1                          2009      Medium               Tier 3   \n",
      "2                          1999      Medium               Tier 1   \n",
      "3                          1998         NaN               Tier 3   \n",
      "4                          1987        High               Tier 3   \n",
      "5                          2009      Medium               Tier 3   \n",
      "6                          1987        High               Tier 3   \n",
      "7                          1985      Medium               Tier 3   \n",
      "8                          2002         NaN               Tier 2   \n",
      "9                          2007         NaN               Tier 2   \n",
      "10                         1999      Medium               Tier 1   \n",
      "11                         1997       Small               Tier 1   \n",
      "12                         1999      Medium               Tier 1   \n",
      "13                         1997       Small               Tier 1   \n",
      "14                         1987        High               Tier 3   \n",
      "15                         1997       Small               Tier 1   \n",
      "16                         2009      Medium               Tier 3   \n",
      "17                         1999      Medium               Tier 1   \n",
      "18                         1985      Medium               Tier 3   \n",
      "19                         2004       Small               Tier 2   \n",
      "20                         1987        High               Tier 3   \n",
      "21                         1985      Medium               Tier 3   \n",
      "22                         2004       Small               Tier 2   \n",
      "23                         1985       Small               Tier 1   \n",
      "24                         1997       Small               Tier 1   \n",
      "25                         2007         NaN               Tier 2   \n",
      "26                         2004       Small               Tier 2   \n",
      "27                         1987        High               Tier 3   \n",
      "28                         1998         NaN               Tier 3   \n",
      "29                         1985       Small               Tier 1   \n",
      "...                         ...         ...                  ...   \n",
      "8493                       2007         NaN               Tier 2   \n",
      "8494                       2007         NaN               Tier 2   \n",
      "8495                       2004       Small               Tier 2   \n",
      "8496                       2007         NaN               Tier 2   \n",
      "8497                       2004       Small               Tier 2   \n",
      "8498                       2009      Medium               Tier 3   \n",
      "8499                       2004       Small               Tier 2   \n",
      "8500                       2007         NaN               Tier 2   \n",
      "8501                       2007         NaN               Tier 2   \n",
      "8502                       2002         NaN               Tier 2   \n",
      "8503                       2004       Small               Tier 2   \n",
      "8504                       1985      Medium               Tier 3   \n",
      "8505                       2009      Medium               Tier 3   \n",
      "8506                       2009      Medium               Tier 3   \n",
      "8507                       2004       Small               Tier 2   \n",
      "8508                       2002         NaN               Tier 2   \n",
      "8509                       1998         NaN               Tier 3   \n",
      "8510                       2004       Small               Tier 2   \n",
      "8511                       2009      Medium               Tier 3   \n",
      "8512                       1987        High               Tier 3   \n",
      "8513                       2004       Small               Tier 2   \n",
      "8514                       2002         NaN               Tier 2   \n",
      "8515                       2009      Medium               Tier 3   \n",
      "8516                       2009      Medium               Tier 3   \n",
      "8517                       1997       Small               Tier 1   \n",
      "8518                       1987        High               Tier 3   \n",
      "8519                       2002         NaN               Tier 2   \n",
      "8520                       2004       Small               Tier 2   \n",
      "8521                       2009      Medium               Tier 3   \n",
      "8522                       1997       Small               Tier 1   \n",
      "\n",
      "            Outlet_Type  Item_Outlet_Sales  \n",
      "0     Supermarket Type1          3735.1380  \n",
      "1     Supermarket Type2           443.4228  \n",
      "2     Supermarket Type1          2097.2700  \n",
      "3         Grocery Store           732.3800  \n",
      "4     Supermarket Type1           994.7052  \n",
      "5     Supermarket Type2           556.6088  \n",
      "6     Supermarket Type1           343.5528  \n",
      "7     Supermarket Type3          4022.7636  \n",
      "8     Supermarket Type1          1076.5986  \n",
      "9     Supermarket Type1          4710.5350  \n",
      "10    Supermarket Type1          1516.0266  \n",
      "11    Supermarket Type1          2187.1530  \n",
      "12    Supermarket Type1          1589.2646  \n",
      "13    Supermarket Type1          2145.2076  \n",
      "14    Supermarket Type1          1977.4260  \n",
      "15    Supermarket Type1          1547.3192  \n",
      "16    Supermarket Type2          1621.8888  \n",
      "17    Supermarket Type1           718.3982  \n",
      "18    Supermarket Type3          2303.6680  \n",
      "19    Supermarket Type1          2748.4224  \n",
      "20    Supermarket Type1          3775.0860  \n",
      "21    Supermarket Type3          4064.0432  \n",
      "22    Supermarket Type1          1587.2672  \n",
      "23        Grocery Store           214.3876  \n",
      "24    Supermarket Type1          4078.0250  \n",
      "25    Supermarket Type1           838.9080  \n",
      "26    Supermarket Type1          1065.2800  \n",
      "27    Supermarket Type1           308.9312  \n",
      "28        Grocery Store           178.4344  \n",
      "29        Grocery Store           125.8362  \n",
      "...                 ...                ...  \n",
      "8493  Supermarket Type1          4727.1800  \n",
      "8494  Supermarket Type1          1637.8680  \n",
      "8495  Supermarket Type1          4314.3840  \n",
      "8496  Supermarket Type1          3715.1640  \n",
      "8497  Supermarket Type1          2247.0750  \n",
      "8498  Supermarket Type2          1601.2490  \n",
      "8499  Supermarket Type1          2976.1260  \n",
      "8500  Supermarket Type1          1907.5170  \n",
      "8501  Supermarket Type1          1508.0370  \n",
      "8502  Supermarket Type1          3020.0688  \n",
      "8503  Supermarket Type1          3392.9168  \n",
      "8504  Supermarket Type3          4138.6128  \n",
      "8505  Supermarket Type2          2117.2440  \n",
      "8506  Supermarket Type2          3944.8650  \n",
      "8507  Supermarket Type1           515.9950  \n",
      "8508  Supermarket Type1          2587.9646  \n",
      "8509      Grocery Store           424.7804  \n",
      "8510  Supermarket Type1          7182.6504  \n",
      "8511  Supermarket Type2          4207.8560  \n",
      "8512  Supermarket Type1          2479.4392  \n",
      "8513  Supermarket Type1           595.2252  \n",
      "8514  Supermarket Type1           468.7232  \n",
      "8515  Supermarket Type2          1571.2880  \n",
      "8516  Supermarket Type2           858.8820  \n",
      "8517  Supermarket Type1          3608.6360  \n",
      "8518  Supermarket Type1          2778.3834  \n",
      "8519  Supermarket Type1           549.2850  \n",
      "8520  Supermarket Type1          1193.1136  \n",
      "8521  Supermarket Type2          1845.5976  \n",
      "8522  Supermarket Type1           765.6700  \n",
      "\n",
      "[8523 rows x 12 columns]\n"
     ]
    }
   ],
   "source": [
    "import pandas as pd_bm\n",
    "df_bm = pd_bm.read_csv (r'./data/BigMartSales.csv') \n",
    "print (df_bm)"
   ]
  },
  {
   "cell_type": "markdown",
   "metadata": {},
   "source": [
    "Features are unnecessary: Item_Identifier, Item_Fat_Content, Outlet_Identifier, Outlet_Establishment_Year,Outlet_Location_Type, Outlet_Type"
   ]
  },
  {
   "cell_type": "markdown",
   "metadata": {},
   "source": [
    "Plot Item_Weight vs Item_Outlet_Sales"
   ]
  },
  {
   "cell_type": "code",
   "execution_count": 4,
   "metadata": {},
   "outputs": [
    {
     "name": "stdout",
     "output_type": "stream",
     "text": [
      "min of Item_Weight: 4.555\n",
      "max of Item_Weight: 21.35\n",
      "\n",
      "min of Item_Outlet_Sales: 33.29\n",
      "max of Item_Outlet_Sales: 13086.9648\n"
     ]
    }
   ],
   "source": [
    "#find min, max in data\n",
    "print(\"min of Item_Weight:\", min(df_bm.Item_Weight))\n",
    "print(\"max of Item_Weight:\", max(df_bm.Item_Weight))\n",
    "print(\"\")\n",
    "print(\"min of Item_Outlet_Sales:\", min(df_bm.Item_Outlet_Sales))\n",
    "print(\"max of Item_Outlet_Sales:\", max(df_bm.Item_Outlet_Sales))\n"
   ]
  },
  {
   "cell_type": "code",
   "execution_count": 16,
   "metadata": {},
   "outputs": [
    {
     "data": {
      "image/png": "[encoded data removed]",
      "text/plain": [
       "<Figure size 432x288 with 1 Axes>"
      ]
     },
     "metadata": {
      "needs_background": "light"
     },
     "output_type": "display_data"
    }
   ],
   "source": [
    "import matplotlib.pyplot as plt\n",
    "import numpy as np \n",
    "# Visualize data \n",
    "plt.plot(df_bm.Item_Weight, df_bm.Item_Outlet_Sales, 'ro')\n",
    "plt.axis([4, 22, 0, 14000])\n",
    "plt.xlabel('Item_Weight')\n",
    "plt.ylabel('Item_Outlet_Sales')\n",
    "plt.show()"
   ]
  },
  {
   "cell_type": "markdown",
   "metadata": {},
   "source": [
    "Plot Item_MRP vs Item_Outlet_Sales"
   ]
  },
  {
   "cell_type": "code",
   "execution_count": 12,
   "metadata": {},
   "outputs": [
    {
     "name": "stdout",
     "output_type": "stream",
     "text": [
      "min of Item_MRP: 31.29\n",
      "max of Item_MRP: 266.8884\n",
      "\n",
      "min of Item_Outlet_Sales: 33.29\n",
      "max of Item_Outlet_Sales: 13086.9648\n"
     ]
    }
   ],
   "source": [
    "#find min, max in data\n",
    "print(\"min of Item_MRP:\", min(df_bm.Item_MRP))\n",
    "print(\"max of Item_MRP:\", max(df_bm.Item_MRP))\n",
    "print(\"\")\n",
    "print(\"min of Item_Outlet_Sales:\", min(df_bm.Item_Outlet_Sales))\n",
    "print(\"max of Item_Outlet_Sales:\", max(df_bm.Item_Outlet_Sales))"
   ]
  },
  {
   "cell_type": "code",
   "execution_count": 11,
   "metadata": {},
   "outputs": [
    {
     "data": {
      "image/png": "[encoded data removed]",
      "text/plain": [
       "<Figure size 432x288 with 1 Axes>"
      ]
     },
     "metadata": {
      "needs_background": "light"
     },
     "output_type": "display_data"
    }
   ],
   "source": [
    "# Visualize data \n",
    "plt.plot(df_bm.Item_MRP, df_bm.Item_Outlet_Sales, 'ro')\n",
    "plt.axis([0, 300, 0, 14000])\n",
    "plt.xlabel('Item_MRP')\n",
    "plt.ylabel('Item_Outlet_Sales')\n",
    "plt.show()"
   ]
  },
  {
   "cell_type": "markdown",
   "metadata": {},
   "source": [
    "Plot Item_Visibility vs Item_Outlet_Sales"
   ]
  },
  {
   "cell_type": "code",
   "execution_count": 13,
   "metadata": {},
   "outputs": [
    {
     "name": "stdout",
     "output_type": "stream",
     "text": [
      "min of Item_Visibility: 0.0\n",
      "max of Item_Visibility: 0.328390948\n",
      "\n",
      "min of Item_Outlet_Sales: 33.29\n",
      "max of Item_Outlet_Sales: 13086.9648\n"
     ]
    }
   ],
   "source": [
    "#find min, max in data\n",
    "print(\"min of Item_Visibility:\", min(df_bm.Item_Visibility))\n",
    "print(\"max of Item_Visibility:\", max(df_bm.Item_Visibility))\n",
    "print(\"\")\n",
    "print(\"min of Item_Outlet_Sales:\", min(df_bm.Item_Outlet_Sales))\n",
    "print(\"max of Item_Outlet_Sales:\", max(df_bm.Item_Outlet_Sales))"
   ]
  },
  {
   "cell_type": "code",
   "execution_count": 15,
   "metadata": {},
   "outputs": [
    {
     "data": {
      "image/png": "[encoded data removed]",
      "text/plain": [
       "<Figure size 432x288 with 1 Axes>"
      ]
     },
     "metadata": {
      "needs_background": "light"
     },
     "output_type": "display_data"
    }
   ],
   "source": [
    "# Visualize data \n",
    "plt.plot(df_bm.Item_Visibility, df_bm.Item_Outlet_Sales, 'ro')\n",
    "plt.axis([0, 0.5, 0, 14000])\n",
    "plt.xlabel('Item_Visibility')\n",
    "plt.ylabel('Item_Outlet_Sales')\n",
    "plt.show()"
   ]
  },
  {
   "cell_type": "markdown",
   "metadata": {},
   "source": [
    "##### 2.\n",
    "###### Import data from Titanic_Disaster.csv"
   ]
  },
  {
   "cell_type": "code",
   "execution_count": 17,
   "metadata": {},
   "outputs": [
    {
     "name": "stdout",
     "output_type": "stream",
     "text": [
      "     PassengerId  Survived  Pclass  \\\n",
      "0              1         0       3   \n",
      "1              2         1       1   \n",
      "2              3         1       3   \n",
      "3              4         1       1   \n",
      "4              5         0       3   \n",
      "5              6         0       3   \n",
      "6              7         0       1   \n",
      "7              8         0       3   \n",
      "8              9         1       3   \n",
      "9             10         1       2   \n",
      "10            11         1       3   \n",
      "11            12         1       1   \n",
      "12            13         0       3   \n",
      "13            14         0       3   \n",
      "14            15         0       3   \n",
      "15            16         1       2   \n",
      "16            17         0       3   \n",
      "17            18         1       2   \n",
      "18            19         0       3   \n",
      "19            20         1       3   \n",
      "20            21         0       2   \n",
      "21            22         1       2   \n",
      "22            23         1       3   \n",
      "23            24         1       1   \n",
      "24            25         0       3   \n",
      "25            26         1       3   \n",
      "26            27         0       3   \n",
      "27            28         0       1   \n",
      "28            29         1       3   \n",
      "29            30         0       3   \n",
      "..           ...       ...     ...   \n",
      "861          862         0       2   \n",
      "862          863         1       1   \n",
      "863          864         0       3   \n",
      "864          865         0       2   \n",
      "865          866         1       2   \n",
      "866          867         1       2   \n",
      "867          868         0       1   \n",
      "868          869         0       3   \n",
      "869          870         1       3   \n",
      "870          871         0       3   \n",
      "871          872         1       1   \n",
      "872          873         0       1   \n",
      "873          874         0       3   \n",
      "874          875         1       2   \n",
      "875          876         1       3   \n",
      "876          877         0       3   \n",
      "877          878         0       3   \n",
      "878          879         0       3   \n",
      "879          880         1       1   \n",
      "880          881         1       2   \n",
      "881          882         0       3   \n",
      "882          883         0       3   \n",
      "883          884         0       2   \n",
      "884          885         0       3   \n",
      "885          886         0       3   \n",
      "886          887         0       2   \n",
      "887          888         1       1   \n",
      "888          889         0       3   \n",
      "889          890         1       1   \n",
      "890          891         0       3   \n",
      "\n",
      "                                                  Name     Sex   Age  SibSp  \\\n",
      "0                              Braund, Mr. Owen Harris    male  22.0      1   \n",
      "1    Cumings, Mrs. John Bradley (Florence Briggs Th...  female  38.0      1   \n",
      "2                               Heikkinen, Miss. Laina  female  26.0      0   \n",
      "3         Futrelle, Mrs. Jacques Heath (Lily May Peel)  female  35.0      1   \n",
      "4                             Allen, Mr. William Henry    male  35.0      0   \n",
      "5                                     Moran, Mr. James    male   NaN      0   \n",
      "6                              McCarthy, Mr. Timothy J    male  54.0      0   \n",
      "7                       Palsson, Master. Gosta Leonard    male   2.0      3   \n",
      "8    Johnson, Mrs. Oscar W (Elisabeth Vilhelmina Berg)  female  27.0      0   \n",
      "9                  Nasser, Mrs. Nicholas (Adele Achem)  female  14.0      1   \n",
      "10                     Sandstrom, Miss. Marguerite Rut  female   4.0      1   \n",
      "11                            Bonnell, Miss. Elizabeth  female  58.0      0   \n",
      "12                      Saundercock, Mr. William Henry    male  20.0      0   \n",
      "13                         Andersson, Mr. Anders Johan    male  39.0      1   \n",
      "14                Vestrom, Miss. Hulda Amanda Adolfina  female  14.0      0   \n",
      "15                    Hewlett, Mrs. (Mary D Kingcome)   female  55.0      0   \n",
      "16                                Rice, Master. Eugene    male   2.0      4   \n",
      "17                        Williams, Mr. Charles Eugene    male   NaN      0   \n",
      "18   Vander Planke, Mrs. Julius (Emelia Maria Vande...  female  31.0      1   \n",
      "19                             Masselmani, Mrs. Fatima  female   NaN      0   \n",
      "20                                Fynney, Mr. Joseph J    male  35.0      0   \n",
      "21                               Beesley, Mr. Lawrence    male  34.0      0   \n",
      "22                         McGowan, Miss. Anna \"Annie\"  female  15.0      0   \n",
      "23                        Sloper, Mr. William Thompson    male  28.0      0   \n",
      "24                       Palsson, Miss. Torborg Danira  female   8.0      3   \n",
      "25   Asplund, Mrs. Carl Oscar (Selma Augusta Emilia...  female  38.0      1   \n",
      "26                             Emir, Mr. Farred Chehab    male   NaN      0   \n",
      "27                      Fortune, Mr. Charles Alexander    male  19.0      3   \n",
      "28                       O'Dwyer, Miss. Ellen \"Nellie\"  female   NaN      0   \n",
      "29                                 Todoroff, Mr. Lalio    male   NaN      0   \n",
      "..                                                 ...     ...   ...    ...   \n",
      "861                        Giles, Mr. Frederick Edward    male  21.0      1   \n",
      "862  Swift, Mrs. Frederick Joel (Margaret Welles Ba...  female  48.0      0   \n",
      "863                  Sage, Miss. Dorothy Edith \"Dolly\"  female   NaN      8   \n",
      "864                             Gill, Mr. John William    male  24.0      0   \n",
      "865                           Bystrom, Mrs. (Karolina)  female  42.0      0   \n",
      "866                       Duran y More, Miss. Asuncion  female  27.0      1   \n",
      "867               Roebling, Mr. Washington Augustus II    male  31.0      0   \n",
      "868                        van Melkebeke, Mr. Philemon    male   NaN      0   \n",
      "869                    Johnson, Master. Harold Theodor    male   4.0      1   \n",
      "870                                  Balkic, Mr. Cerin    male  26.0      0   \n",
      "871   Beckwith, Mrs. Richard Leonard (Sallie Monypeny)  female  47.0      1   \n",
      "872                           Carlsson, Mr. Frans Olof    male  33.0      0   \n",
      "873                        Vander Cruyssen, Mr. Victor    male  47.0      0   \n",
      "874              Abelson, Mrs. Samuel (Hannah Wizosky)  female  28.0      1   \n",
      "875                   Najib, Miss. Adele Kiamie \"Jane\"  female  15.0      0   \n",
      "876                      Gustafsson, Mr. Alfred Ossian    male  20.0      0   \n",
      "877                               Petroff, Mr. Nedelio    male  19.0      0   \n",
      "878                                 Laleff, Mr. Kristo    male   NaN      0   \n",
      "879      Potter, Mrs. Thomas Jr (Lily Alexenia Wilson)  female  56.0      0   \n",
      "880       Shelley, Mrs. William (Imanita Parrish Hall)  female  25.0      0   \n",
      "881                                 Markun, Mr. Johann    male  33.0      0   \n",
      "882                       Dahlberg, Miss. Gerda Ulrika  female  22.0      0   \n",
      "883                      Banfield, Mr. Frederick James    male  28.0      0   \n",
      "884                             Sutehall, Mr. Henry Jr    male  25.0      0   \n",
      "885               Rice, Mrs. William (Margaret Norton)  female  39.0      0   \n",
      "886                              Montvila, Rev. Juozas    male  27.0      0   \n",
      "887                       Graham, Miss. Margaret Edith  female  19.0      0   \n",
      "888           Johnston, Miss. Catherine Helen \"Carrie\"  female   NaN      1   \n",
      "889                              Behr, Mr. Karl Howell    male  26.0      0   \n",
      "890                                Dooley, Mr. Patrick    male  32.0      0   \n",
      "\n",
      "     Parch            Ticket      Fare        Cabin Embarked  \n",
      "0        0         A/5 21171    7.2500          NaN        S  \n",
      "1        0          PC 17599   71.2833          C85        C  \n",
      "2        0  STON/O2. 3101282    7.9250          NaN        S  \n",
      "3        0            113803   53.1000         C123        S  \n",
      "4        0            373450    8.0500          NaN        S  \n",
      "5        0            330877    8.4583          NaN        Q  \n",
      "6        0             17463   51.8625          E46        S  \n",
      "7        1            349909   21.0750          NaN        S  \n",
      "8        2            347742   11.1333          NaN        S  \n",
      "9        0            237736   30.0708          NaN        C  \n",
      "10       1           PP 9549   16.7000           G6        S  \n",
      "11       0            113783   26.5500         C103        S  \n",
      "12       0         A/5. 2151    8.0500          NaN        S  \n",
      "13       5            347082   31.2750          NaN        S  \n",
      "14       0            350406    7.8542          NaN        S  \n",
      "15       0            248706   16.0000          NaN        S  \n",
      "16       1            382652   29.1250          NaN        Q  \n",
      "17       0            244373   13.0000          NaN        S  \n",
      "18       0            345763   18.0000          NaN        S  \n",
      "19       0              2649    7.2250          NaN        C  \n",
      "20       0            239865   26.0000          NaN        S  \n",
      "21       0            248698   13.0000          D56        S  \n",
      "22       0            330923    8.0292          NaN        Q  \n",
      "23       0            113788   35.5000           A6        S  \n",
      "24       1            349909   21.0750          NaN        S  \n",
      "25       5            347077   31.3875          NaN        S  \n",
      "26       0              2631    7.2250          NaN        C  \n",
      "27       2             19950  263.0000  C23 C25 C27        S  \n",
      "28       0            330959    7.8792          NaN        Q  \n",
      "29       0            349216    7.8958          NaN        S  \n",
      "..     ...               ...       ...          ...      ...  \n",
      "861      0             28134   11.5000          NaN        S  \n",
      "862      0             17466   25.9292          D17        S  \n",
      "863      2          CA. 2343   69.5500          NaN        S  \n",
      "864      0            233866   13.0000          NaN        S  \n",
      "865      0            236852   13.0000          NaN        S  \n",
      "866      0     SC/PARIS 2149   13.8583          NaN        C  \n",
      "867      0          PC 17590   50.4958          A24        S  \n",
      "868      0            345777    9.5000          NaN        S  \n",
      "869      1            347742   11.1333          NaN        S  \n",
      "870      0            349248    7.8958          NaN        S  \n",
      "871      1             11751   52.5542          D35        S  \n",
      "872      0               695    5.0000  B51 B53 B55        S  \n",
      "873      0            345765    9.0000          NaN        S  \n",
      "874      0         P/PP 3381   24.0000          NaN        C  \n",
      "875      0              2667    7.2250          NaN        C  \n",
      "876      0              7534    9.8458          NaN        S  \n",
      "877      0            349212    7.8958          NaN        S  \n",
      "878      0            349217    7.8958          NaN        S  \n",
      "879      1             11767   83.1583          C50        C  \n",
      "880      1            230433   26.0000          NaN        S  \n",
      "881      0            349257    7.8958          NaN        S  \n",
      "882      0              7552   10.5167          NaN        S  \n",
      "883      0  C.A./SOTON 34068   10.5000          NaN        S  \n",
      "884      0   SOTON/OQ 392076    7.0500          NaN        S  \n",
      "885      5            382652   29.1250          NaN        Q  \n",
      "886      0            211536   13.0000          NaN        S  \n",
      "887      0            112053   30.0000          B42        S  \n",
      "888      2        W./C. 6607   23.4500          NaN        S  \n",
      "889      0            111369   30.0000         C148        C  \n",
      "890      0            370376    7.7500          NaN        Q  \n",
      "\n",
      "[891 rows x 12 columns]\n"
     ]
    }
   ],
   "source": [
    "import pandas as pd_td\n",
    "df_td = pd_td.read_csv (r'./data/Titanic_Disaster.csv') \n",
    "print (df_td)"
   ]
  },
  {
   "cell_type": "markdown",
   "metadata": {},
   "source": [
    "Properties are unnecessary: Name, Ticket, Cabin, Parch, Pclass"
   ]
  },
  {
   "cell_type": "markdown",
   "metadata": {},
   "source": [
    "Plot Fare vs Survived"
   ]
  },
  {
   "cell_type": "code",
   "execution_count": 18,
   "metadata": {},
   "outputs": [
    {
     "name": "stdout",
     "output_type": "stream",
     "text": [
      "min of Fare: 0.0\n",
      "max of Fare: 512.3292\n",
      "\n",
      "min of Survived: 0\n",
      "max of Survived: 1\n"
     ]
    }
   ],
   "source": [
    "#find min, max in data\n",
    "print(\"min of Fare:\", min(df_td.Fare))\n",
    "print(\"max of Fare:\", max(df_td.Fare))\n",
    "print(\"\")\n",
    "print(\"min of Survived:\", min(df_td.Survived))\n",
    "print(\"max of Survived:\", max(df_td.Survived))"
   ]
  },
  {
   "cell_type": "code",
   "execution_count": 19,
   "metadata": {
    "scrolled": true
   },
   "outputs": [
    {
     "data": {
      "image/png": "[encoded data removed]",
      "text/plain": [
       "<Figure size 432x288 with 1 Axes>"
      ]
     },
     "metadata": {
      "needs_background": "light"
     },
     "output_type": "display_data"
    }
   ],
   "source": [
    "# Visualize data \n",
    "plt.plot(df_td.Fare, df_td.Survived, 'ro')\n",
    "plt.axis([0, 520, 0, 1.5])\n",
    "plt.xlabel('Fare')\n",
    "plt.ylabel('Survived')\n",
    "plt.show()"
   ]
  },
  {
   "cell_type": "markdown",
   "metadata": {},
   "source": [
    "Plot Age vs Survived"
   ]
  },
  {
   "cell_type": "code",
   "execution_count": 20,
   "metadata": {},
   "outputs": [
    {
     "name": "stdout",
     "output_type": "stream",
     "text": [
      "min of Age: 0.42\n",
      "max of Age: 80.0\n",
      "\n",
      "min of Survived: 0\n",
      "max of Survived: 1\n"
     ]
    }
   ],
   "source": [
    "#find min, max in data\n",
    "print(\"min of Age:\", min(df_td.Age))\n",
    "print(\"max of Age:\", max(df_td.Age))\n",
    "print(\"\")\n",
    "print(\"min of Survived:\", min(df_td.Survived))\n",
    "print(\"max of Survived:\", max(df_td.Survived))"
   ]
  },
  {
   "cell_type": "code",
   "execution_count": 21,
   "metadata": {},
   "outputs": [
    {
     "data": {
      "image/png": "[encoded data removed]",
      "text/plain": [
       "<Figure size 432x288 with 1 Axes>"
      ]
     },
     "metadata": {
      "needs_background": "light"
     },
     "output_type": "display_data"
    }
   ],
   "source": [
    "# Visualize data \n",
    "plt.plot(df_td.Age, df_td.Survived, 'ro')\n",
    "plt.axis([0, 85, 0, 1])\n",
    "plt.xlabel('Age')\n",
    "plt.ylabel('Survived')\n",
    "plt.show()"
   ]
  },
  {
   "cell_type": "markdown",
   "metadata": {},
   "source": [
    "Plot Age vs Fare"
   ]
  },
  {
   "cell_type": "code",
   "execution_count": 22,
   "metadata": {},
   "outputs": [
    {
     "name": "stdout",
     "output_type": "stream",
     "text": [
      "min of Age: 0.42\n",
      "max of Age: 80.0\n",
      "\n",
      "min of Fare: 0.0\n",
      "max of Fare: 512.3292\n"
     ]
    }
   ],
   "source": [
    "#find min, max in data\n",
    "print(\"min of Age:\", min(df_td.Age))\n",
    "print(\"max of Age:\", max(df_td.Age))\n",
    "print(\"\")\n",
    "print(\"min of Fare:\", min(df_td.Fare))\n",
    "print(\"max of Fare:\", max(df_td.Fare))"
   ]
  },
  {
   "cell_type": "code",
   "execution_count": 23,
   "metadata": {
    "scrolled": true
   },
   "outputs": [
    {
     "data": {
      "image/png": "[encoded data removed]",
      "text/plain": [
       "<Figure size 432x288 with 1 Axes>"
      ]
     },
     "metadata": {
      "needs_background": "light"
     },
     "output_type": "display_data"
    }
   ],
   "source": [
    "# Visualize data \n",
    "plt.plot(df_td.Age, df_td.Fare, 'ro')\n",
    "plt.axis([0, 85, 0, 515])\n",
    "plt.xlabel('Age')\n",
    "plt.ylabel('Fare')\n",
    "plt.show()"
   ]
  }
 ],
 "metadata": {
  "kernelspec": {
   "display_name": "Python 3",
   "language": "python",
   "name": "python3"
  },
  "language_info": {
   "codemirror_mode": {
    "name": "ipython",
    "version": 3
   },
   "file_extension": ".py",
   "mimetype": "text/x-python",
   "name": "python",
   "nbconvert_exporter": "python",
   "pygments_lexer": "ipython3",
   "version": "3.5.2"
  }
 },
 "nbformat": 4,
 "nbformat_minor": 2
}
